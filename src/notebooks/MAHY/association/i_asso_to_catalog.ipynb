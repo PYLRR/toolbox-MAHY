{
 "cells": [
  {
   "cell_type": "code",
   "id": "initial_id",
   "metadata": {
    "collapsed": true,
    "ExecuteTime": {
     "end_time": "2025-04-19T19:58:16.193326Z",
     "start_time": "2025-04-19T19:58:16.185461Z"
    }
   },
   "source": [
    "import numpy as np\n",
    "import glob2\n",
    "import datetime\n",
    "from pathlib import Path\n",
    "from tqdm.notebook import tqdm\n",
    "import pickle\n",
    "from matplotlib import pyplot as plt\n",
    "from utils.detection.association_geodesic import squarize\n",
    "plt.rcParams.update({'font.size': 18})\n",
    "import math\n",
    "from numpy.linalg import LinAlgError\n",
    "import pandas as pd\n",
    "\n",
    "from utils.data_reading.sound_data.station import StationsCatalog\n",
    "from utils.physics.sound_model.spherical_sound_model import GridSphericalSoundModel as GridSoundModel, MonthlyHomogeneousSphericalSoundModel as HomogeneousSoundModel\n",
    "from utils.detection.association_geodesic import compute_candidates, update_valid_grid, update_results, load_detections, compute_grids"
   ],
   "outputs": [],
   "execution_count": 29
  },
  {
   "metadata": {
    "ExecuteTime": {
     "end_time": "2025-04-19T19:58:17.715686Z",
     "start_time": "2025-04-19T19:58:16.429167Z"
    }
   },
   "cell_type": "code",
   "source": [
    "# paths\n",
    "CATALOG_PATH = \"/media/plerolland/akoustik/MAHY\"\n",
    "DETECTIONS_DIR = f\"../../../../data/detection/i_TiSSNet_checked-reboot-2\"\n",
    "SOUND_MODEL_PATH = f\"../../../../data/sound_model\"\n",
    "\n",
    "# sound model definition\n",
    "STATIONS = StationsCatalog(CATALOG_PATH).filter_out_undated().filter_out_unlocated()\n",
    "mid_pos = np.mean([s.get_pos() for s in STATIONS], axis=0)\n",
    "SOUND_MODEL = HomogeneousSoundModel([f\"{SOUND_MODEL_PATH}/min-velocities_month-{i:02d}.nc\" for i in range(1,13)],\n",
    "                                    mid_pos)"
   ],
   "id": "724af32e9cfd9325",
   "outputs": [],
   "execution_count": 30
  },
  {
   "metadata": {
    "ExecuteTime": {
     "end_time": "2025-04-19T19:58:19.144817Z",
     "start_time": "2025-04-19T19:58:17.996667Z"
    }
   },
   "cell_type": "code",
   "source": [
    "MIN_ASSOCIATION_SIZE = 3\n",
    "\n",
    "new_stations = {}\n",
    "idx_to_det = {}\n",
    "datasets = set([s.dataset for s in STATIONS])\n",
    "for dataset in datasets:\n",
    "    dets = glob2.glob(f\"{DETECTIONS_DIR}/{dataset}/cache/detections*.pkl\")[0]\n",
    "    with open(dets, \"rb\") as f:\n",
    "        DETECTIONS = pickle.load(f)\n",
    "\n",
    "    idx_det = 0\n",
    "    idx_to_det_local = {}\n",
    "    for idx, s in enumerate(DETECTIONS.keys()):\n",
    "        s.idx = idx  # indexes to store efficiently the associations\n",
    "        DETECTIONS[s] = list(DETECTIONS[s])\n",
    "        for i in range(len(DETECTIONS[s])):\n",
    "            DETECTIONS[s][i] = np.concatenate((DETECTIONS[s][i], [idx_det]))\n",
    "            idx_to_det_local[idx_det] = DETECTIONS[s][i]\n",
    "            idx_det += 1\n",
    "        DETECTIONS[s] = np.array(DETECTIONS[s])\n",
    "    new_stations[dataset] = list(DETECTIONS.keys())\n",
    "    idx_to_det[dataset] = idx_to_det_local\n",
    "STATIONS = new_stations"
   ],
   "id": "51ea9deddd3ef7b4",
   "outputs": [],
   "execution_count": 31
  },
  {
   "metadata": {
    "ExecuteTime": {
     "end_time": "2025-04-19T19:58:39.331435Z",
     "start_time": "2025-04-19T19:58:39.175936Z"
    }
   },
   "cell_type": "code",
   "source": [
    "LAT_BOUNDS = [-13.4, -12.4]\n",
    "LON_BOUNDS = [45.25, 46.25]\n",
    "GRID_SIZE = 150  # number of points along lat axis\n",
    "PICK_UNCERTAINTY = 1\n",
    "SOUND_SPEED_UNCERTAINTY = 0.25\n",
    "MAX_CLOCK_DRIFT = 0.25\n",
    "GRID_PATH = f\"{DETECTIONS_DIR}/{list(datasets)[0]}/cache/grids_{LAT_BOUNDS[0]}_{LAT_BOUNDS[1]}_{LON_BOUNDS[0]}_{LON_BOUNDS[1]}_{GRID_SIZE}_{PICK_UNCERTAINTY}_{SOUND_SPEED_UNCERTAINTY}_{MAX_CLOCK_DRIFT}.pkl\"\n",
    "with open(GRID_PATH, \"rb\") as f:\n",
    "    GRID_TO_COORDS, TDoA, MAX_TDoA, TDoA_UNCERTAINTIES = pickle.load(f)\n",
    "GRID_TO_COORDS = np.array(GRID_TO_COORDS)"
   ],
   "id": "58c4a53303f81d6c",
   "outputs": [],
   "execution_count": 33
  },
  {
   "metadata": {
    "ExecuteTime": {
     "end_time": "2025-04-19T19:58:58.531100Z",
     "start_time": "2025-04-19T19:58:57.667551Z"
    }
   },
   "cell_type": "code",
   "source": [
    "lats = [-13,-12.7]\n",
    "lons = [45.45,45.85]\n",
    "\n",
    "kept_assocations = {}\n",
    "\n",
    "for dataset in tqdm(datasets):\n",
    "    kept_assocations[dataset] = []\n",
    "    asso_files = glob2.glob(f\"{DETECTIONS_DIR}/{dataset}/cache/associations_{MIN_ASSOCIATION_SIZE}*.pkl\")\n",
    "    for file in asso_files:\n",
    "        with open(file, \"rb\") as f:\n",
    "            associations = pickle.load(f)\n",
    "            for dets, valid_pts in associations:\n",
    "                coords = np.array([GRID_TO_COORDS[i] for i in valid_pts])\n",
    "                valid = (coords[:,0] >= lats[0]) & (coords[:,0] <= lats[1]) & (coords[:,1] >= lons[0]) & (coords[:,1] <= lons[1])\n",
    "                if np.any(valid):\n",
    "                    kept_assocations[dataset].append(dets)"
   ],
   "id": "71092fb6e194681",
   "outputs": [
    {
     "data": {
      "text/plain": [
       "  0%|          | 0/5 [00:00<?, ?it/s]"
      ],
      "application/vnd.jupyter.widget-view+json": {
       "version_major": 2,
       "version_minor": 0,
       "model_id": "5c9ed372869043b5857979ca9da303b7"
      }
     },
     "metadata": {},
     "output_type": "display_data"
    }
   ],
   "execution_count": 35
  },
  {
   "metadata": {
    "ExecuteTime": {
     "end_time": "2025-04-19T19:59:00.325812Z",
     "start_time": "2025-04-19T19:59:00.317411Z"
    }
   },
   "cell_type": "code",
   "source": [
    "for dataset in kept_assocations.keys():\n",
    "    print(len(kept_assocations[dataset]))\n",
    "    kept_assocations[dataset].sort(key=lambda x: len(x), reverse=True)"
   ],
   "id": "13a707434c1afd31",
   "outputs": [
    {
     "name": "stdout",
     "output_type": "stream",
     "text": [
      "21\n",
      "112\n",
      "97\n",
      "158\n",
      "2519\n"
     ]
    }
   ],
   "execution_count": 36
  },
  {
   "metadata": {
    "ExecuteTime": {
     "end_time": "2025-04-19T19:59:32.194702Z",
     "start_time": "2025-04-19T19:59:01.537568Z"
    }
   },
   "cell_type": "code",
   "source": [
    "for dataset in kept_assocations.keys():\n",
    "    for i in tqdm(range(len(kept_assocations[dataset]))):\n",
    "        if len(kept_assocations[dataset][i]) == 2:\n",
    "            continue\n",
    "\n",
    "        dets = kept_assocations[dataset][i]\n",
    "        dates = [idx_to_det[dataset][idx][0] for idx in dets[:,1]]\n",
    "        s = [STATIONS[dataset][s]for s in dets[:,0]]\n",
    "        pos = [s_.get_pos() for s_ in s]\n",
    "\n",
    "        try:\n",
    "            loc = SOUND_MODEL.localize_common_source(pos, dates)\n",
    "        except LinAlgError:\n",
    "            continue\n",
    "\n",
    "        new_dets = [(station, date) for station, date in zip(s, dates)]\n",
    "        kept_assocations[dataset][i] = (new_dets, loc)"
   ],
   "id": "98d4487e82afef25",
   "outputs": [
    {
     "data": {
      "text/plain": [
       "  0%|          | 0/21 [00:00<?, ?it/s]"
      ],
      "application/vnd.jupyter.widget-view+json": {
       "version_major": 2,
       "version_minor": 0,
       "model_id": "0669f2700cdc4b14a60e7712639bd72f"
      }
     },
     "metadata": {},
     "output_type": "display_data"
    },
    {
     "data": {
      "text/plain": [
       "  0%|          | 0/112 [00:00<?, ?it/s]"
      ],
      "application/vnd.jupyter.widget-view+json": {
       "version_major": 2,
       "version_minor": 0,
       "model_id": "6ec0c6410ee24d4e8fc84fe31f8b6014"
      }
     },
     "metadata": {},
     "output_type": "display_data"
    },
    {
     "data": {
      "text/plain": [
       "  0%|          | 0/97 [00:00<?, ?it/s]"
      ],
      "application/vnd.jupyter.widget-view+json": {
       "version_major": 2,
       "version_minor": 0,
       "model_id": "2a21224a3aa14e4eb30666120076c782"
      }
     },
     "metadata": {},
     "output_type": "display_data"
    },
    {
     "data": {
      "text/plain": [
       "  0%|          | 0/158 [00:00<?, ?it/s]"
      ],
      "application/vnd.jupyter.widget-view+json": {
       "version_major": 2,
       "version_minor": 0,
       "model_id": "767217f8a0e645c8819bcfb087e47b01"
      }
     },
     "metadata": {},
     "output_type": "display_data"
    },
    {
     "data": {
      "text/plain": [
       "  0%|          | 0/2519 [00:00<?, ?it/s]"
      ],
      "application/vnd.jupyter.widget-view+json": {
       "version_major": 2,
       "version_minor": 0,
       "model_id": "528b171ce6a146fcb0e3957319a730c6"
      }
     },
     "metadata": {},
     "output_type": "display_data"
    }
   ],
   "execution_count": 37
  },
  {
   "metadata": {
    "ExecuteTime": {
     "end_time": "2025-04-19T06:45:03.541082Z",
     "start_time": "2025-04-19T06:45:03.419545Z"
    }
   },
   "cell_type": "code",
   "source": [
    "results = {}\n",
    "\n",
    "for dataset in kept_assocations.keys():\n",
    "    results[dataset] = []\n",
    "    used_dets = {s:set() for s in STATIONS[dataset]}\n",
    "    sizes = np.array([len(a[0]) for a in kept_assocations[dataset]])\n",
    "\n",
    "    for size in sorted(np.unique(sizes), reverse=True):\n",
    "        relevant_associations = [a for a in kept_assocations[dataset] if len(a[0]) == size]\n",
    "        scores = [a[1].cost for a in relevant_associations]\n",
    "        order = np.argsort(scores)\n",
    "\n",
    "        for idx in tqdm(order):\n",
    "            available = True\n",
    "            for s, d in relevant_associations[idx][0]:\n",
    "                if d in used_dets[s]:\n",
    "                    available = False\n",
    "            if available:\n",
    "                results[dataset].append(relevant_associations[idx])\n",
    "                for s, d in relevant_associations[idx][0]:\n",
    "                    used_dets[s].add(d)"
   ],
   "id": "b854fb3a2069a6f3",
   "outputs": [
    {
     "data": {
      "text/plain": [
       "  0%|          | 0/11 [00:00<?, ?it/s]"
      ],
      "application/vnd.jupyter.widget-view+json": {
       "version_major": 2,
       "version_minor": 0,
       "model_id": "017d6ee0ab55473493bf594072e677d6"
      }
     },
     "metadata": {},
     "output_type": "display_data"
    },
    {
     "data": {
      "text/plain": [
       "  0%|          | 0/62 [00:00<?, ?it/s]"
      ],
      "application/vnd.jupyter.widget-view+json": {
       "version_major": 2,
       "version_minor": 0,
       "model_id": "52e70cfafab545e4b7c6793703a809dc"
      }
     },
     "metadata": {},
     "output_type": "display_data"
    },
    {
     "data": {
      "text/plain": [
       "  0%|          | 0/3 [00:00<?, ?it/s]"
      ],
      "application/vnd.jupyter.widget-view+json": {
       "version_major": 2,
       "version_minor": 0,
       "model_id": "5dc4e9d9db3145239c8345f80e793a36"
      }
     },
     "metadata": {},
     "output_type": "display_data"
    },
    {
     "data": {
      "text/plain": [
       "  0%|          | 0/67 [00:00<?, ?it/s]"
      ],
      "application/vnd.jupyter.widget-view+json": {
       "version_major": 2,
       "version_minor": 0,
       "model_id": "7d8ee58b2b844b5f9a1dfaa444588662"
      }
     },
     "metadata": {},
     "output_type": "display_data"
    },
    {
     "data": {
      "text/plain": [
       "  0%|          | 0/2 [00:00<?, ?it/s]"
      ],
      "application/vnd.jupyter.widget-view+json": {
       "version_major": 2,
       "version_minor": 0,
       "model_id": "9677b74916fa4008a26e7fd01f357d12"
      }
     },
     "metadata": {},
     "output_type": "display_data"
    },
    {
     "data": {
      "text/plain": [
       "  0%|          | 0/94 [00:00<?, ?it/s]"
      ],
      "application/vnd.jupyter.widget-view+json": {
       "version_major": 2,
       "version_minor": 0,
       "model_id": "f729e4c6999b40b4bb146ae4a8359c65"
      }
     },
     "metadata": {},
     "output_type": "display_data"
    },
    {
     "data": {
      "text/plain": [
       "  0%|          | 0/507 [00:00<?, ?it/s]"
      ],
      "application/vnd.jupyter.widget-view+json": {
       "version_major": 2,
       "version_minor": 0,
       "model_id": "31f7a32b377c480393a9c68baa0ecf53"
      }
     },
     "metadata": {},
     "output_type": "display_data"
    },
    {
     "data": {
      "text/plain": [
       "  0%|          | 0/1557 [00:00<?, ?it/s]"
      ],
      "application/vnd.jupyter.widget-view+json": {
       "version_major": 2,
       "version_minor": 0,
       "model_id": "f5ff1e84376142f88389ecabe22f757b"
      }
     },
     "metadata": {},
     "output_type": "display_data"
    }
   ],
   "execution_count": 9
  },
  {
   "metadata": {
    "ExecuteTime": {
     "end_time": "2025-04-19T19:59:54.100627Z",
     "start_time": "2025-04-19T19:59:50.376070Z"
    }
   },
   "cell_type": "code",
   "source": [
    "df = pd.DataFrame(columns=[\"date\",\"lat\", \"lon\", \"timestamp\", \"nb_stations\", \"cost\", \"s1\", \"date1\", \"s2\", \"date2\", \"s3\", \"date3\", \"s4\", \"date4\"])\n",
    "\n",
    "i=0\n",
    "for dataset in results.keys():\n",
    "    for dets, loc in tqdm(results[dataset]):\n",
    "        for j in range(len(dets)):\n",
    "            df.loc[i, f\"s{j}\"] = dets[j][0]\n",
    "            df.loc[i, f\"date{j}\"] = dets[j][1]\n",
    "        min_date = np.min(np.array(dets)[:,1])\n",
    "        df.loc[i, \"date\"] = min_date + datetime.timedelta(seconds=loc.x[0])\n",
    "        df.loc[i, \"timestamp\"] = (df.loc[i, \"date\"] - datetime.datetime(1970,1,1)).total_seconds()\n",
    "        df.loc[i, \"lat\"] = loc.x[1]\n",
    "        df.loc[i, \"lon\"] = loc.x[2]\n",
    "        df.loc[i, \"cost\"] = loc.cost\n",
    "        df.loc[i, \"nb_stations\"] = len(dets)\n",
    "        i += 1\n",
    "\n",
    "df.to_csv(\"i_catalog.csv\")"
   ],
   "id": "f63b05c13191aef3",
   "outputs": [
    {
     "data": {
      "text/plain": [
       "  0%|          | 0/11 [00:00<?, ?it/s]"
      ],
      "application/vnd.jupyter.widget-view+json": {
       "version_major": 2,
       "version_minor": 0,
       "model_id": "332002722680458682b2ba06c3eb714e"
      }
     },
     "metadata": {},
     "output_type": "display_data"
    },
    {
     "data": {
      "text/plain": [
       "  0%|          | 0/58 [00:00<?, ?it/s]"
      ],
      "application/vnd.jupyter.widget-view+json": {
       "version_major": 2,
       "version_minor": 0,
       "model_id": "a98bac3676a543eea3b1709ced26f61f"
      }
     },
     "metadata": {},
     "output_type": "display_data"
    },
    {
     "data": {
      "text/plain": [
       "  0%|          | 0/57 [00:00<?, ?it/s]"
      ],
      "application/vnd.jupyter.widget-view+json": {
       "version_major": 2,
       "version_minor": 0,
       "model_id": "87deeff94f464908b0495fe6ebbdf6ab"
      }
     },
     "metadata": {},
     "output_type": "display_data"
    },
    {
     "data": {
      "text/plain": [
       "  0%|          | 0/80 [00:00<?, ?it/s]"
      ],
      "application/vnd.jupyter.widget-view+json": {
       "version_major": 2,
       "version_minor": 0,
       "model_id": "1f0568199de6409582db60dcf972a7b4"
      }
     },
     "metadata": {},
     "output_type": "display_data"
    },
    {
     "data": {
      "text/plain": [
       "  0%|          | 0/1362 [00:00<?, ?it/s]"
      ],
      "application/vnd.jupyter.widget-view+json": {
       "version_major": 2,
       "version_minor": 0,
       "model_id": "11fe23c6890e423d9be4fe1668a4aa30"
      }
     },
     "metadata": {},
     "output_type": "display_data"
    }
   ],
   "execution_count": 38
  },
  {
   "metadata": {
    "ExecuteTime": {
     "end_time": "2025-04-19T20:00:00.936714Z",
     "start_time": "2025-04-19T20:00:00.727152Z"
    }
   },
   "cell_type": "code",
   "source": [
    "lat_step = 0.0025\n",
    "lon_step = 0.0025\n",
    "\n",
    "lat_bins = np.arange(-12.9, -12.83, lat_step)\n",
    "lon_bins = np.arange(45.64, 45.72 , lon_step)\n",
    "\n",
    "hist, y_edges, x_edges = np.histogram2d(df['lat'], df['lon'], bins=[lat_bins, lon_bins])\n",
    "fig, ax = plt.subplots(figsize=(8, 6))\n",
    "mesh = ax.pcolormesh(x_edges, y_edges, hist, cmap='viridis')\n",
    "plt.colorbar(mesh, ax=ax, label='Nombre de points')\n",
    "ax.set_xlabel('Longitude')\n",
    "ax.set_ylabel('Latitude')\n",
    "ax.set_title('Heatmap des points par cellule')\n",
    "plt.show()"
   ],
   "id": "c65d433cda6bc2ba",
   "outputs": [
    {
     "data": {
      "text/plain": [
       "<Figure size 800x600 with 2 Axes>"
      ],
      "image/png": "[encoded data removed]"
     },
     "metadata": {},
     "output_type": "display_data"
    }
   ],
   "execution_count": 39
  },
  {
   "metadata": {},
   "cell_type": "code",
   "outputs": [],
   "execution_count": null,
   "source": "",
   "id": "6d49fd7fcf5bef35"
  }
 ],
 "metadata": {
  "kernelspec": {
   "display_name": "Python 3",
   "language": "python",
   "name": "python3"
  },
  "language_info": {
   "codemirror_mode": {
    "name": "ipython",
    "version": 2
   },
   "file_extension": ".py",
   "mimetype": "text/x-python",
   "name": "python",
   "nbconvert_exporter": "python",
   "pygments_lexer": "ipython2",
   "version": "2.7.6"
  }
 },
 "nbformat": 4,
 "nbformat_minor": 5
}
