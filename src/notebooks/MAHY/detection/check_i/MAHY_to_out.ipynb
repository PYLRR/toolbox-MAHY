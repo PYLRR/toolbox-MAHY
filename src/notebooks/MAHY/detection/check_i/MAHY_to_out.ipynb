{
 "cells": [
  {
   "cell_type": "code",
   "id": "initial_id",
   "metadata": {
    "collapsed": true
   },
   "source": [
    "import numpy as np\n",
    "import glob2\n",
    "import datetime\n",
    "from pathlib import Path\n",
    "from tqdm.notebook import tqdm\n",
    "import pickle\n",
    "from matplotlib import pyplot as plt\n",
    "from utils.detection.association_geodesic import squarize\n",
    "plt.rcParams.update({'font.size': 18})\n",
    "\n",
    "from utils.physics.signal.make_spectrogram import make_spectrogram\n",
    "from utils.data_reading.sound_data.station import StationsCatalog\n",
    "import skimage\n",
    "from utils.physics.sound_model.spherical_sound_model import GridSphericalSoundModel as GridSoundModel, HomogeneousSphericalSoundModel as HomogeneousSoundModel\n",
    "from utils.detection.association_geodesic import compute_candidates, update_valid_grid, update_results, load_detections, compute_grids"
   ],
   "outputs": [],
   "execution_count": null
  },
  {
   "metadata": {},
   "cell_type": "code",
   "source": [
    "# paths\n",
    "CATALOG_PATH = \"/media/plerolland/akoustik/MAHY\"\n",
    "DETECTIONS_DIR = f\"../../../../../data/detection/TiSSNet\"\n",
    "OUT = \"/media/plerolland/LaBoite/MAHY_check/reboot\"\n",
    "\n",
    "STATIONS = StationsCatalog(CATALOG_PATH).filter_out_undated().filter_out_unlocated()\n",
    "\n",
    "DELTA = datetime.timedelta(seconds=100)"
   ],
   "id": "f0713fe0e6552c9c",
   "outputs": [],
   "execution_count": null
  },
  {
   "metadata": {},
   "cell_type": "code",
   "source": [
    "d = []\n",
    "for station in tqdm(STATIONS):\n",
    "    path = f\"{DETECTIONS_DIR}/{station.dataset}/{station.dataset}_{station.name}.pkl\"\n",
    "\n",
    "    with open(path, \"rb\") as f:\n",
    "        while True:\n",
    "            try:\n",
    "                d.append([station] + pickle.load(f))\n",
    "            except EOFError:\n",
    "                break\n",
    "d = np.array(d)\n",
    "\n",
    "print(len(d), d.shape)\n",
    "print(d[0])"
   ],
   "id": "b319cc70b8c350fa",
   "outputs": [],
   "execution_count": null
  },
  {
   "metadata": {},
   "cell_type": "code",
   "source": [
    "detections_uncertain = d[d[:,2] > 0.4]\n",
    "print(len(detections_uncertain))\n",
    "np.random.seed(0)\n",
    "np.random.shuffle(detections_uncertain)\n",
    "detections_uncertain = detections_uncertain[:5_000]"
   ],
   "id": "cda9bd9c316339b1",
   "outputs": [],
   "execution_count": null
  },
  {
   "metadata": {},
   "cell_type": "code",
   "source": [
    "import os\n",
    "from concurrent.futures import ProcessPoolExecutor\n",
    "from tqdm import tqdm\n",
    "import skimage.io\n",
    "import numpy as np\n",
    "\n",
    "def process_detection(args):\n",
    "    manager, date, delta, path = args\n",
    "    if Path(path).exists():\n",
    "        return\n",
    "    if date - delta < manager.dataset_start or date + delta > manager.dataset_end:\n",
    "        print(\"skipping out of bounds segment\")\n",
    "        return\n",
    "    data = manager.get_segment(date - delta, date + delta)\n",
    "    spectrogram = make_spectrogram(\n",
    "        data,\n",
    "        manager.sampling_f,\n",
    "        t_res=0.25,\n",
    "        f_res=2,\n",
    "        return_bins=False,\n",
    "        normalize=False\n",
    "    ).astype(np.float32)\n",
    "\n",
    "    # Normalisation\n",
    "    spectrogram = (spectrogram - np.mean(spectrogram)) / np.std(spectrogram)\n",
    "    spectrogram = 255 * (spectrogram - np.min(spectrogram)) / (np.max(spectrogram) - np.min(spectrogram))\n",
    "\n",
    "    # Sauvegarde\n",
    "    skimage.io.imsave(path, spectrogram.astype(np.uint8))\n",
    "\n",
    "with ProcessPoolExecutor(max_workers=10) as executor:\n",
    "    args_iterable = ((s.get_manager(), date, DELTA, f'{OUT}/{s.name}_{date.strftime(\"%Y%m%d_%H%M%S_%f\")}.png') for s, date, p in detections_uncertain)\n",
    "    list(tqdm(executor.map(process_detection, args_iterable), total=len(detections_uncertain)))"
   ],
   "id": "218ea9024bf882b9",
   "outputs": [],
   "execution_count": null
  },
  {
   "metadata": {},
   "cell_type": "code",
   "source": "",
   "id": "9d3f0153a68c14cd",
   "outputs": [],
   "execution_count": null
  },
  {
   "metadata": {
    "jupyter": {
     "is_executing": true
    }
   },
   "cell_type": "code",
   "source": [
    "import os\n",
    "from concurrent.futures import ProcessPoolExecutor\n",
    "from tqdm import tqdm\n",
    "import skimage.io\n",
    "import numpy as np\n",
    "\n",
    "def process_detection(args):\n",
    "    manager, date, delta, path = args\n",
    "    if Path(path).exists():\n",
    "        return\n",
    "    if date - delta < manager.dataset_start or date + delta > manager.dataset_end:\n",
    "        #print(\"skipping out of bounds segment\")\n",
    "        return\n",
    "    data = manager.get_segment(date - delta, date + delta)\n",
    "    spectrogram = make_spectrogram(\n",
    "        data,\n",
    "        manager.sampling_f,\n",
    "        t_res=0.25,\n",
    "        f_res=2,\n",
    "        return_bins=False,\n",
    "        normalize=False\n",
    "    ).astype(np.float32)\n",
    "\n",
    "    # Normalisation\n",
    "    spectrogram = (spectrogram - np.mean(spectrogram)) / np.std(spectrogram)\n",
    "    spectrogram = 255 * (spectrogram - np.min(spectrogram)) / (np.max(spectrogram) - np.min(spectrogram))\n",
    "\n",
    "    # Sauvegarde\n",
    "    skimage.io.imsave(path, spectrogram.astype(np.uint8))\n",
    "\n",
    "for s, date, p in detections_uncertain:\n",
    "    process_detection((s.get_manager(), date, DELTA, f'{OUT}/{s.name}_{date.strftime(\"%Y%m%d_%H%M%S_%f\")}.png'))"
   ],
   "id": "da82cf675675fbc5",
   "outputs": [],
   "execution_count": null
  },
  {
   "metadata": {},
   "cell_type": "code",
   "source": "",
   "id": "163558afdf2f82ff",
   "outputs": [],
   "execution_count": null
  }
 ],
 "metadata": {
  "kernelspec": {
   "display_name": "Python 3",
   "language": "python",
   "name": "python3"
  },
  "language_info": {
   "codemirror_mode": {
    "name": "ipython",
    "version": 2
   },
   "file_extension": ".py",
   "mimetype": "text/x-python",
   "name": "python",
   "nbconvert_exporter": "python",
   "pygments_lexer": "ipython2",
   "version": "2.7.6"
  }
 },
 "nbformat": 4,
 "nbformat_minor": 5
}
