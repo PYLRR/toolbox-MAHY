{
 "cells": [
  {
   "cell_type": "code",
   "id": "initial_id",
   "metadata": {
    "collapsed": true
   },
   "source": [
    "import numpy as np\n",
    "import glob2\n",
    "import datetime\n",
    "from pathlib import Path\n",
    "from tqdm.notebook import tqdm\n",
    "import pickle\n",
    "from matplotlib import pyplot as plt\n",
    "from utils.detection.association_geodesic import squarize\n",
    "import matplotlib as mpl\n",
    "import matplotlib.dates as mdates\n",
    "from scipy import stats\n",
    "from utils.physics.geodesic.distance import distance_point_point\n",
    "\n",
    "plt.style.use('classic')\n",
    "mpl.rcParams.update({\n",
    "    \"font.size\": 10,\n",
    "    \"axes.titlesize\": 15,\n",
    "    \"axes.labelsize\": 10,\n",
    "    \"xtick.labelsize\": 10,\n",
    "    \"ytick.labelsize\": 10,\n",
    "    \"legend.fontsize\": 10,\n",
    "    \"figure.titlesize\": 15,\n",
    "    \"font.family\": \"serif\",\n",
    "    \"pdf.fonttype\": 42,\n",
    "    \"ps.fonttype\": 42\n",
    "})\n",
    "from matplotlib import rc\n",
    "rc('font', **{'family': 'serif', 'serif': ['Computer Modern']})\n",
    "rc('text', usetex=True)\n",
    "import math\n",
    "from numpy.linalg import LinAlgError\n",
    "import pandas as pd\n",
    "from scipy.interpolate import RegularGridInterpolator\n",
    "\n",
    "from utils.data_reading.sound_data.station import StationsCatalog\n",
    "from utils.physics.sound_model.spherical_sound_model import GridSphericalSoundModel as GridSoundModel, MonthlyHomogeneousSphericalSoundModel as HomogeneousSoundModel\n",
    "from utils.detection.association_geodesic import compute_candidates, update_valid_grid, update_results, load_detections, compute_grids"
   ],
   "outputs": [],
   "execution_count": null
  },
  {
   "metadata": {},
   "cell_type": "code",
   "source": [
    "STATIONS = StationsCatalog(\"/media/plerolland/akoustik/MAHY\").filter_out_undated().filter_out_unlocated()\n",
    "\n",
    "for s in STATIONS:\n",
    "    detections = []\n",
    "\n",
    "    drift_ppm = 0\n",
    "    if \"clock_drift_ppm\" in s.other_kwargs:\n",
    "        drift_ppm = s.other_kwargs[\"clock_drift_ppm\"]\n",
    "    else:\n",
    "        print(f\"No drift for {s}\")\n",
    "\n",
    "    with open(f\"../../../../data/detection/TiSSNet_Pn_fixed/{s.dataset}/{s.dataset}_{s.name}.pkl\", \"rb\") as f:\n",
    "        while True:\n",
    "            try:\n",
    "                detections.append(pickle.load(f))\n",
    "            except EOFError:\n",
    "                break\n",
    "\n",
    "    new_detections = []\n",
    "    for date, p in tqdm(detections[0]):\n",
    "        delta =  2 * drift_ppm * (date-s.date_start).total_seconds() * 1e-6\n",
    "        new_detections.append((date - datetime.timedelta(seconds=delta), p))\n",
    "\n",
    "    out_dir = f\"../../../../data/detection/TiSSNet_Pn_corr_inverted/{s.dataset}\"\n",
    "    Path(out_dir).mkdir(parents=True, exist_ok=True)\n",
    "    with open(f\"{out_dir}/{s.dataset}_{s.name}.pkl\", \"wb\") as f:\n",
    "        pickle.dump(np.array(new_detections), f)"
   ],
   "id": "fd75ec271bce6d4e",
   "outputs": [],
   "execution_count": null
  },
  {
   "metadata": {},
   "cell_type": "code",
   "source": "",
   "id": "64e21b984ac95ad0",
   "outputs": [],
   "execution_count": null
  },
  {
   "metadata": {},
   "cell_type": "code",
   "source": [
    "path = \"../../../../data/MAHY/loc_3D/drifts.csv\"\n",
    "\n",
    "df = pd.read_csv(path)  # shape (19, 4)\n",
    "\n",
    "fig, axs = plt.subplots(nrows=5, ncols=4, figsize=(12, 10))\n",
    "axs = axs.flatten()\n",
    "c = [\"drift GPS (raw→corr)\", \"drift OBS (raw→OBS)\", \"drift (corr→OBS)\", \"drift (corr_invert→OBS)\"]\n",
    "for i, row in df.iterrows():\n",
    "    if np.isnan(row[\"drift GPS (raw→corr)\"]):\n",
    "        continue\n",
    "    else:\n",
    "        v = [row[c[0]], row[c[1]], row[c[2]], row[c[3]]]\n",
    "        axs[i].bar(range(4), v)\n",
    "        axs[i].set_xticks(range(4))\n",
    "        axs[i].set_xticklabels([\"GPS\", \"rawOBS\",'corrOBS','corrIOBS'])\n",
    "        axs[i].set_title(row[\"station\"])\n",
    "        axs[i].set_ylim(-0.2,0.2)\n",
    "plt.tight_layout()\n",
    "plt.savefig(f\"../../../../data/MAHY/figures/dérives/drifts_measurements.png\", dpi=500, bbox_inches='tight')"
   ],
   "id": "8a5ed4c4c9aba08",
   "outputs": [],
   "execution_count": null
  },
  {
   "metadata": {},
   "cell_type": "code",
   "source": "",
   "id": "d17c1efd62d6c9fc",
   "outputs": [],
   "execution_count": null
  }
 ],
 "metadata": {
  "kernelspec": {
   "display_name": "Python 3",
   "language": "python",
   "name": "python3"
  },
  "language_info": {
   "codemirror_mode": {
    "name": "ipython",
    "version": 2
   },
   "file_extension": ".py",
   "mimetype": "text/x-python",
   "name": "python",
   "nbconvert_exporter": "python",
   "pygments_lexer": "ipython2",
   "version": "2.7.6"
  }
 },
 "nbformat": 4,
 "nbformat_minor": 5
}
