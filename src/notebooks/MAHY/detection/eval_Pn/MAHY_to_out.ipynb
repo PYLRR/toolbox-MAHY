{
 "cells": [
  {
   "cell_type": "code",
   "id": "initial_id",
   "metadata": {
    "collapsed": true,
    "ExecuteTime": {
     "end_time": "2025-05-16T21:18:41.852080Z",
     "start_time": "2025-05-16T21:18:38.436543Z"
    }
   },
   "source": [
    "import numpy as np\n",
    "import glob2\n",
    "import datetime\n",
    "from pathlib import Path\n",
    "from tqdm.notebook import tqdm\n",
    "import pickle\n",
    "from matplotlib import pyplot as plt\n",
    "from utils.detection.association_geodesic import squarize\n",
    "plt.rcParams.update({'font.size': 18})\n",
    "\n",
    "from utils.physics.signal.make_spectrogram import make_spectrogram\n",
    "from utils.data_reading.sound_data.station import StationsCatalog\n",
    "import skimage\n",
    "from utils.physics.sound_model.spherical_sound_model import GridSphericalSoundModel as GridSoundModel, HomogeneousSphericalSoundModel as HomogeneousSoundModel\n",
    "from utils.detection.association_geodesic import compute_candidates, update_valid_grid, update_results, load_detections, compute_grids"
   ],
   "outputs": [],
   "execution_count": 1
  },
  {
   "metadata": {
    "ExecuteTime": {
     "end_time": "2025-05-16T21:22:22.317591Z",
     "start_time": "2025-05-16T21:22:22.035225Z"
    }
   },
   "cell_type": "code",
   "source": [
    "# paths\n",
    "CATALOG_PATH = \"/media/plerolland/akoustik/MAHY\"\n",
    "DETECTIONS_DIR = f\"../../../../../data/detection/TiSSNet_Pn\"\n",
    "OUT = \"/media/plerolland/LaBoite/MAHY_eval/Pn\"\n",
    "\n",
    "STATIONS = StationsCatalog(CATALOG_PATH).filter_out_undated().filter_out_unlocated()\n",
    "\n",
    "DELTA = datetime.timedelta(seconds=100)"
   ],
   "id": "f0713fe0e6552c9c",
   "outputs": [],
   "execution_count": 10
  },
  {
   "metadata": {
    "ExecuteTime": {
     "end_time": "2025-05-16T21:22:24.378537Z",
     "start_time": "2025-05-16T21:22:22.403904Z"
    }
   },
   "cell_type": "code",
   "source": [
    "d = []\n",
    "for station in tqdm(STATIONS):\n",
    "    path = f\"{DETECTIONS_DIR}/{station.dataset}/{station.dataset}_{station.name}.pkl\"\n",
    "    print(path)\n",
    "\n",
    "    with open(path, \"rb\") as f:\n",
    "        while True:\n",
    "            try:\n",
    "                d.append([station] + pickle.load(f))\n",
    "            except EOFError:\n",
    "                break\n",
    "d = np.array(d)\n",
    "\n",
    "print(len(d), d.shape)\n",
    "print(d[0])"
   ],
   "id": "b319cc70b8c350fa",
   "outputs": [
    {
     "name": "stderr",
     "output_type": "stream",
     "text": [
      "  0%|          | 0/19 [00:00<?, ?it/s]"
     ]
    },
    {
     "name": "stdout",
     "output_type": "stream",
     "text": [
      "../../../../../data/detection/TiSSNet_Pn/MAHY0/MAHY0_MAHY01.pkl\n"
     ]
    },
    {
     "name": "stderr",
     "output_type": "stream",
     "text": [
      "  5%|▌         | 1/19 [00:00<00:03,  5.91it/s]"
     ]
    },
    {
     "name": "stdout",
     "output_type": "stream",
     "text": [
      "../../../../../data/detection/TiSSNet_Pn/MAHY0/MAHY0_MAHY02.pkl\n"
     ]
    },
    {
     "name": "stderr",
     "output_type": "stream",
     "text": [
      " 16%|█▌        | 3/19 [00:00<00:03,  5.14it/s]"
     ]
    },
    {
     "name": "stdout",
     "output_type": "stream",
     "text": [
      "../../../../../data/detection/TiSSNet_Pn/MAHY0/MAHY0_MAHY03.pkl\n",
      "../../../../../data/detection/TiSSNet_Pn/MAHY0/MAHY0_MAHY04.pkl\n"
     ]
    },
    {
     "name": "stderr",
     "output_type": "stream",
     "text": [
      " 47%|████▋     | 9/19 [00:01<00:01,  8.80it/s]"
     ]
    },
    {
     "name": "stdout",
     "output_type": "stream",
     "text": [
      "../../../../../data/detection/TiSSNet_Pn/MAHY1/MAHY1_MAHY11.pkl\n",
      "../../../../../data/detection/TiSSNet_Pn/MAHY1/MAHY1_MAHY12.pkl\n",
      "../../../../../data/detection/TiSSNet_Pn/MAHY1/MAHY1_MAHY13.pkl\n",
      "../../../../../data/detection/TiSSNet_Pn/MAHY1/MAHY1_MAHY14.pkl\n",
      "../../../../../data/detection/TiSSNet_Pn/MAHY2/MAHY2_MAHY21.pkl\n"
     ]
    },
    {
     "name": "stderr",
     "output_type": "stream",
     "text": [
      " 74%|███████▎  | 14/19 [00:01<00:00, 14.54it/s]"
     ]
    },
    {
     "name": "stdout",
     "output_type": "stream",
     "text": [
      "../../../../../data/detection/TiSSNet_Pn/MAHY2/MAHY2_MAHY22.pkl\n",
      "../../../../../data/detection/TiSSNet_Pn/MAHY2/MAHY2_MAHY23.pkl\n",
      "../../../../../data/detection/TiSSNet_Pn/MAHY3/MAHY3_MAHY31.pkl\n",
      "../../../../../data/detection/TiSSNet_Pn/MAHY3/MAHY3_MAHY32.pkl\n",
      "../../../../../data/detection/TiSSNet_Pn/MAHY3/MAHY3_MAHY33.pkl\n"
     ]
    },
    {
     "name": "stderr",
     "output_type": "stream",
     "text": [
      "100%|██████████| 19/19 [00:01<00:00, 17.26it/s]"
     ]
    },
    {
     "name": "stdout",
     "output_type": "stream",
     "text": [
      "../../../../../data/detection/TiSSNet_Pn/MAHY3/MAHY3_MAHY34.pkl\n",
      "../../../../../data/detection/TiSSNet_Pn/MAHY4/MAHY4_MAHY41.pkl\n",
      "../../../../../data/detection/TiSSNet_Pn/MAHY4/MAHY4_MAHY42.pkl\n",
      "../../../../../data/detection/TiSSNet_Pn/MAHY4/MAHY4_MAHY43.pkl\n",
      "../../../../../data/detection/TiSSNet_Pn/MAHY4/MAHY4_MAHY44.pkl\n"
     ]
    },
    {
     "name": "stderr",
     "output_type": "stream",
     "text": [
      "100%|██████████| 19/19 [00:01<00:00, 10.63it/s]\n"
     ]
    },
    {
     "name": "stdout",
     "output_type": "stream",
     "text": [
      "226894 (226894, 3)\n",
      "[MAHY0_MAHY01 datetime.datetime(2020, 10, 16, 0, 18, 47, 374469)\n",
      " np.float16(0.4172)]\n"
     ]
    }
   ],
   "execution_count": 11
  },
  {
   "metadata": {
    "ExecuteTime": {
     "end_time": "2025-05-16T21:22:24.622352Z",
     "start_time": "2025-05-16T21:22:24.421949Z"
    }
   },
   "cell_type": "code",
   "source": [
    "d = d[d[:,2] >= 0.5]\n",
    "print(len(d))\n",
    "np.random.seed(0)\n",
    "np.random.shuffle(d)\n",
    "d = d[:1_000]"
   ],
   "id": "cda9bd9c316339b1",
   "outputs": [
    {
     "name": "stdout",
     "output_type": "stream",
     "text": [
      "96103\n"
     ]
    }
   ],
   "execution_count": 12
  },
  {
   "metadata": {
    "ExecuteTime": {
     "end_time": "2025-05-16T21:24:39.615189Z",
     "start_time": "2025-05-16T21:22:40.412164Z"
    }
   },
   "cell_type": "code",
   "source": [
    "import os\n",
    "from concurrent.futures import ProcessPoolExecutor\n",
    "from tqdm import tqdm\n",
    "import skimage.io\n",
    "import numpy as np\n",
    "\n",
    "\n",
    "for s, date, p in tqdm(d):\n",
    "    manager, date, delta, path = s.get_manager(), date, DELTA, f'{OUT}/{s.name}_{date.strftime(\"%Y%m%d_%H%M%S_%f\")}.png'\n",
    "    if date - delta < manager.dataset_start or date + delta > manager.dataset_end:\n",
    "        print(\"skipping out of bounds segment\")\n",
    "        continue\n",
    "    data = manager.get_segment(date - delta, date + delta)\n",
    "    spectrogram = make_spectrogram(data,\n",
    "                                   manager.sampling_f,\n",
    "        t_res=0.25,\n",
    "        f_res=2,\n",
    "        return_bins=False,\n",
    "        normalize=False\n",
    "    ).astype(np.float32)\n",
    "\n",
    "    # Normalisation\n",
    "    spectrogram = (spectrogram - np.mean(spectrogram)) / np.std(spectrogram)\n",
    "    spectrogram = 255 * (spectrogram - np.min(spectrogram)) / (np.max(spectrogram) - np.min(spectrogram))\n",
    "\n",
    "    # Sauvegarde\n",
    "    skimage.io.imsave(path, spectrogram.astype(np.uint8))"
   ],
   "id": "218ea9024bf882b9",
   "outputs": [
    {
     "name": "stderr",
     "output_type": "stream",
     "text": [
      "100%|██████████| 1000/1000 [01:59<00:00,  8.39it/s]\n"
     ]
    }
   ],
   "execution_count": 14
  },
  {
   "metadata": {
    "ExecuteTime": {
     "end_time": "2025-05-16T21:19:10.656880685Z",
     "start_time": "2025-04-09T04:03:05.034767Z"
    }
   },
   "cell_type": "code",
   "source": [
    "import os\n",
    "from concurrent.futures import ProcessPoolExecutor\n",
    "from tqdm import tqdm\n",
    "import skimage.io\n",
    "import numpy as np\n",
    "\n",
    "def process_detection(args):\n",
    "    manager, date, delta, path = args\n",
    "    if Path(path).exists():\n",
    "        return\n",
    "    if date - delta < manager.dataset_start or date + delta > manager.dataset_end:\n",
    "        #print(\"skipping out of bounds segment\")\n",
    "        return\n",
    "    data = manager.get_segment(date - delta, date + delta)\n",
    "    spectrogram = make_spectrogram(\n",
    "        data,\n",
    "        manager.sampling_f,\n",
    "        t_res=0.25,\n",
    "        f_res=2,\n",
    "        return_bins=False,\n",
    "        normalize=False\n",
    "    ).astype(np.float32)\n",
    "\n",
    "    # Normalisation\n",
    "    spectrogram = (spectrogram - np.mean(spectrogram)) / np.std(spectrogram)\n",
    "    spectrogram = 255 * (spectrogram - np.min(spectrogram)) / (np.max(spectrogram) - np.min(spectrogram))\n",
    "\n",
    "    # Sauvegarde\n",
    "    skimage.io.imsave(path, spectrogram.astype(np.uint8))\n",
    "\n",
    "for s, date, p in detections_uncertain:\n",
    "    process_detection((s.get_manager(), date, DELTA, f'{OUT}/{s.name}_{date.strftime(\"%Y%m%d_%H%M%S_%f\")}.png'))"
   ],
   "id": "da82cf675675fbc5",
   "outputs": [
    {
     "name": "stderr",
     "output_type": "stream",
     "text": [
      "\n",
      "KeyboardInterrupt\n",
      "\n"
     ]
    }
   ],
   "execution_count": 16
  },
  {
   "metadata": {},
   "cell_type": "code",
   "outputs": [],
   "execution_count": null,
   "source": "",
   "id": "163558afdf2f82ff"
  }
 ],
 "metadata": {
  "kernelspec": {
   "display_name": "Python 3",
   "language": "python",
   "name": "python3"
  },
  "language_info": {
   "codemirror_mode": {
    "name": "ipython",
    "version": 2
   },
   "file_extension": ".py",
   "mimetype": "text/x-python",
   "name": "python",
   "nbconvert_exporter": "python",
   "pygments_lexer": "ipython2",
   "version": "2.7.6"
  }
 },
 "nbformat": 4,
 "nbformat_minor": 5
}
